{
 "cells": [
  {
   "cell_type": "markdown",
   "metadata": {},
   "source": [
    "# Phyllosphere of Hawaiian Plants - 16S Analysis"
   ]
  },
  {
   "cell_type": "markdown",
   "metadata": {},
   "source": [
    "Note that the sequence files and the qiime2 files containing all the sequences (demux-paired-end.qza) and the trimmed ITS sequences (trimmed.qza) are not provided inn the repository because of their size. The steps below allow you to recreate the files."
   ]
  },
  {
   "cell_type": "markdown",
   "metadata": {},
   "source": [
    "## Import Sequences into Qiime2"
   ]
  },
  {
   "cell_type": "markdown",
   "metadata": {},
   "source": [
    "The sequences for 16S amplicon sequencing of the 47 samples should be downloaded from GenBank's SRA database under Bioproject PRJNA880325. The titles of Biosamples containing the 16S reads start with \"16S\".\n",
    "\n",
    "Once downloaded the files should be moved to a directory called \"Data\" within the current directory."
   ]
  },
  {
   "cell_type": "code",
   "execution_count": null,
   "metadata": {
    "scrolled": true
   },
   "outputs": [],
   "source": [
    "!mkdir 01-ProcessReads\n",
    "!qiime tools import \\\n",
    "  --type 'SampleData[PairedEndSequencesWithQuality]' \\\n",
    "  --input-path 00-illumina/data \\\n",
    "  --input-format CasavaOneEightSingleLanePerSampleDirFmt \\\n",
    "  --output-path 01-ProcessReads/demux-paired-end.qza"
   ]
  },
  {
   "cell_type": "code",
   "execution_count": null,
   "metadata": {},
   "outputs": [],
   "source": [
    "!qiime demux summarize \\\n",
    " --i-data 01-ProcessReads/demux-paired-end.qza \\\n",
    " --p-n 100000 \\\n",
    " --verbose \\\n",
    " --o-visualization 01-ProcessReads/demux.qzv"
   ]
  },
  {
   "cell_type": "markdown",
   "metadata": {},
   "source": [
    "## Filter reads and Remove Primers from reads:"
   ]
  },
  {
   "cell_type": "code",
   "execution_count": null,
   "metadata": {},
   "outputs": [],
   "source": [
    "!qiime cutadapt trim-paired \\\n",
    "  --i-demultiplexed-sequences 01-ProcessReads/demux-paired-end.qza \\\n",
    "  --p-cores 12 \\\n",
    "  --p-front-f NTGYCAGCMGCCGCGGTAA \\\n",
    "  --p-front-r NCGYCAATTYMTTTRAGTTT \\\n",
    "  --p-discard-untrimmed \\\n",
    "  --o-trimmed-sequences 01-ProcessReads/trimmed-seqs.qza \\\n",
    "  --verbose > 01-ProcessReads/trim.log"
   ]
  },
  {
   "cell_type": "code",
   "execution_count": null,
   "metadata": {},
   "outputs": [],
   "source": [
    "!qiime demux summarize \\\n",
    " --i-data 01-ProcessReads/trimmed-seqs.qza \\\n",
    " --p-n 100000 \\\n",
    " --verbose \\\n",
    " --o-visualization 01-ProcessReads/trimmed-seqs.qzv"
   ]
  },
  {
   "cell_type": "code",
   "execution_count": null,
   "metadata": {},
   "outputs": [],
   "source": [
    "!qiime dada2 denoise-paired \\\n",
    "  --i-demultiplexed-seqs 01-ProcessReads/trimmed-seqs.qza \\\n",
    "  --p-trim-left-f 0 \\\n",
    "  --p-trim-left-r 0 \\\n",
    "  --p-trunc-len-f 280 \\\n",
    "  --p-trunc-len-r 200 \\\n",
    "  --p-n-threads 10 \\\n",
    "  --o-representative-sequences 01-ProcessReads/rep-seqs-dada.qza \\\n",
    "  --o-table 01-ProcessReads/table-dada.qza \\\n",
    "  --o-denoising-stats 01-ProcessReads/stats-dada.qza\n"
   ]
  },
  {
   "cell_type": "code",
   "execution_count": null,
   "metadata": {},
   "outputs": [],
   "source": [
    "!qiime metadata tabulate \\\n",
    "  --m-input-file 01-ProcessReads/stats-dada.qza \\\n",
    "  --o-visualization 01-ProcessReads/stats-dada.qzv\n",
    "\n",
    "!qiime feature-table summarize \\\n",
    "  --i-table 01-ProcessReads/table-dada.qza \\\n",
    "  --o-visualization 01-ProcessReads/table-dada.qzv \\\n",
    "  --m-sample-metadata-file map.txt"
   ]
  },
  {
   "cell_type": "markdown",
   "metadata": {},
   "source": [
    "## Download SILVA database\n",
    "\n",
    "!mkdir silva\n",
    "\n",
    "!wget -O silva/silva-138-99-seqs.qza https://data.qiime2.org/2020.11/common/silva-138-99-seqs.qza\n",
    "\n",
    "!wget -O silva/silva-138-99-tax.qza https://data.qiime2.org/2020.11/common/silva-138-99-tax.qza    \n",
    "\n",
    "## Get SILVA classifier\n",
    "\n",
    "Downloaded from: https://data.qiime2.org/2021.4/common/silva-138-99-nb-classifier.qza\n"
   ]
  },
  {
   "cell_type": "code",
   "execution_count": null,
   "metadata": {},
   "outputs": [],
   "source": [
    "!mkdir silva\n",
    "\n",
    "!wget -O silva/silva-138-99-seqs.qza https://data.qiime2.org/2020.11/common/silva-138-99-seqs.qza\n",
    "!wget -O silva/silva-138-99-tax.qza https://data.qiime2.org/2020.11/common/silva-138-99-tax.qza    \n",
    "\n",
    "!wget -O silva/silva-138-99-nb-classifier.qza https://data.qiime2.org/2020.11/common/silva-138-99-nb-classifier.qza"
   ]
  },
  {
   "cell_type": "markdown",
   "metadata": {},
   "source": [
    "## Assign taxonomy"
   ]
  },
  {
   "cell_type": "code",
   "execution_count": null,
   "metadata": {},
   "outputs": [],
   "source": [
    "!qiime feature-classifier classify-consensus-vsearch \\\n",
    "  --i-query 01-ProcessReads/rep-seqs-dada.qza \\\n",
    "  --i-reference-reads silva/silva-138-99-seqs.qza \\\n",
    "  --i-reference-taxonomy silva/silva-138-99-tax.qza \\\n",
    "  --p-threads 30 \\\n",
    "  --o-classification 01-ProcessReads/taxonomy-vsearch.qza \\\n",
    "  --verbose\n",
    "\n",
    "!qiime metadata tabulate \\\n",
    "  --m-input-file 01-ProcessReads/taxonomy-vsearch.qza \\\n",
    "  --o-visualization 01-ProcessReads/taxonomy-vsearch.qzv"
   ]
  },
  {
   "cell_type": "markdown",
   "metadata": {},
   "source": [
    "## Create tree of ASVs"
   ]
  },
  {
   "cell_type": "code",
   "execution_count": null,
   "metadata": {},
   "outputs": [],
   "source": [
    "!qiime phylogeny align-to-tree-mafft-fasttree \\\n",
    "  --i-sequences 01-ProcessReads/rep-seqs-dada.qza \\\n",
    "  --o-alignment 01-ProcessReads/aligned-rep-seqs.qza \\\n",
    "  --o-masked-alignment 01-ProcessReads/masked-aligned-rep-seqs.qza \\\n",
    "  --o-tree 01-ProcessReads/unrooted-tree.qza \\\n",
    "  --o-rooted-tree 01-ProcessReads/rooted-tree.qza"
   ]
  },
  {
   "cell_type": "markdown",
   "metadata": {},
   "source": [
    "# Analyses"
   ]
  },
  {
   "cell_type": "code",
   "execution_count": null,
   "metadata": {},
   "outputs": [],
   "source": [
    "!qiime diversity core-metrics-phylogenetic \\\n",
    "  --i-table 01-ProcessReads/table-dada.qza \\\n",
    "  --p-sampling-depth 8000 \\\n",
    "  --i-phylogeny 01-ProcessReads/rooted-tree.qza \\\n",
    "  --m-metadata-file map.txt \\\n",
    "  --output-dir 02-Analyses/core-metrics-results-vsearch\n",
    "\n",
    "# Taxa plots\n",
    "!qiime taxa barplot \\\n",
    "  --i-table 01-ProcessReads/table-dada.qza \\\n",
    "  --i-taxonomy 01-ProcessReads/taxonomy-vsearch.qza \\\n",
    "  --m-metadata-file map.txt \\\n",
    "  --o-visualization 02-Analyses/taxa-bar-plots-vsearch.qzv"
   ]
  }
 ],
 "metadata": {
  "kernelspec": {
   "display_name": "Python 3.9.10 ('sandbox')",
   "language": "python",
   "name": "python3"
  },
  "language_info": {
   "codemirror_mode": {
    "name": "ipython",
    "version": 3
   },
   "file_extension": ".py",
   "mimetype": "text/x-python",
   "name": "python",
   "nbconvert_exporter": "python",
   "pygments_lexer": "ipython3",
   "version": "3.9.10"
  },
  "vscode": {
   "interpreter": {
    "hash": "58b3ee7bed305e8a81ac508aa57e4aa7f39c9f5e9e2e26f9dc52b6cdc02b581d"
   }
  }
 },
 "nbformat": 4,
 "nbformat_minor": 4
}
