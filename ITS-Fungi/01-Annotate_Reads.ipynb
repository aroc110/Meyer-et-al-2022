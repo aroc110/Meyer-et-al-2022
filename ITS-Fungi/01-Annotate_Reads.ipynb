{
 "cells": [
  {
   "cell_type": "markdown",
   "metadata": {},
   "source": [
    "# Phyllosphere of Hawaiian Plants - Fungal ITS Analysis"
   ]
  },
  {
   "cell_type": "markdown",
   "metadata": {},
   "source": [
    "Note that the sequence files and the qiime2 files containing all the sequences (demux-paired-end.qza) and the trimmed ITS sequences (trimmed.qza) are not provided inn the repository because of their size. The steps below allow you to recreate the files."
   ]
  },
  {
   "cell_type": "markdown",
   "metadata": {},
   "source": [
    "## Import Sequences into Qiime2"
   ]
  },
  {
   "cell_type": "markdown",
   "metadata": {},
   "source": [
    "The sequences for ITS amplicon sequencing of the 47 samples should be downloaded from GenBank's SRA database under Bioproject PRJNA880325. The titles of Biosamples containing the ITS reads start with \"ITS2\".\n",
    "\n",
    "Once downloaded the files should be moved to a directory called \"Data\" within the current directory."
   ]
  },
  {
   "cell_type": "code",
   "execution_count": null,
   "metadata": {
    "scrolled": true
   },
   "outputs": [],
   "source": [
    "!mkdir 01-ProcessReads\n",
    "!qiime tools import \\\n",
    "  --type 'SampleData[PairedEndSequencesWithQuality]' \\\n",
    "  --input-path Data \\\n",
    "  --input-format CasavaOneEightSingleLanePerSampleDirFmt \\\n",
    "  --output-path 01-ProcessReads/demux-paired-end.qza"
   ]
  },
  {
   "cell_type": "code",
   "execution_count": null,
   "metadata": {},
   "outputs": [],
   "source": [
    "!qiime demux summarize \\\n",
    " --i-data 01-ProcessReads/demux-paired-end.qza \\\n",
    " --p-n 100000 \\\n",
    " --verbose \\\n",
    " --o-visualization 01-ProcessReads/demux.qzv"
   ]
  },
  {
   "cell_type": "markdown",
   "metadata": {},
   "source": [
    "## Trim ITS using itsxpress:"
   ]
  },
  {
   "cell_type": "code",
   "execution_count": null,
   "metadata": {},
   "outputs": [],
   "source": [
    "!qiime itsxpress trim-pair-output-unmerged\\\n",
    "  --i-per-sample-sequences 01-ProcessReads/demux-paired-end.qza \\\n",
    "  --p-region ITS1 \\\n",
    "  --p-taxa F \\\n",
    "  --p-cluster-id 1.0 \\\n",
    "  --p-threads 30 \\\n",
    "  --o-trimmed 01-ProcessReads/trimmed.qza"
   ]
  },
  {
   "cell_type": "code",
   "execution_count": null,
   "metadata": {},
   "outputs": [],
   "source": [
    "!qiime demux summarize \\\n",
    " --i-data 01-ProcessReads/trimmed.qza \\\n",
    " --p-n 100000 \\\n",
    " --verbose \\\n",
    " --o-visualization 01-ProcessReads/trimmed.qzv"
   ]
  },
  {
   "cell_type": "code",
   "execution_count": null,
   "metadata": {},
   "outputs": [],
   "source": [
    "!qiime dada2 denoise-paired \\\n",
    "  --i-demultiplexed-seqs 01-ProcessReads/trimmed.qza \\\n",
    "  --p-trunc-len-r 200 \\\n",
    "  --p-trunc-len-f 0 \\\n",
    "  --p-n-threads 30 \\\n",
    "  --o-representative-sequences 01-ProcessReads/rep-seqs-dada.qza \\\n",
    "  --o-table 01-ProcessReads/table-dada.qza \\\n",
    "  --o-denoising-stats 01-ProcessReads/stats-dada.qza"
   ]
  },
  {
   "cell_type": "code",
   "execution_count": null,
   "metadata": {},
   "outputs": [],
   "source": [
    "!qiime metadata tabulate \\\n",
    "  --m-input-file 01-ProcessReads/stats-dada.qza \\\n",
    "  --o-visualization 01-ProcessReads/stats-dada.qzv\n",
    "\n",
    "!qiime feature-table summarize \\\n",
    "  --i-table 01-ProcessReads/table-dada.qza \\\n",
    "  --o-visualization 01-ProcessReads/table-dada.qzv \\\n",
    "  --m-sample-metadata-file map.txt"
   ]
  },
  {
   "cell_type": "markdown",
   "metadata": {},
   "source": [
    "## Make Unite classifier\n",
    "\n",
    "Unite version 8.3\n",
    "https://unite.ut.ee/repository.php#uchime\n",
    "\n",
    "Downloaded from: https://doi.org/10.15156/BIO/1264763\n",
    "\n",
    "\n",
    "https://files.plutof.ut.ee/public/orig/B3/05/B3054DF783AC61A0C3BD0FDEB0516EC394934809AAE43CA0F3081C0A184FAA39.tgz"
   ]
  },
  {
   "cell_type": "code",
   "execution_count": null,
   "metadata": {},
   "outputs": [],
   "source": [
    "!wget https://files.plutof.ut.ee/public/orig/B3/05/B3054DF783AC61A0C3BD0FDEB0516EC394934809AAE43CA0F3081C0A184FAA39.tgz"
   ]
  },
  {
   "cell_type": "code",
   "execution_count": null,
   "metadata": {},
   "outputs": [],
   "source": [
    "!gunzip B3054DF783AC61A0C3BD0FDEB0516EC394934809AAE43CA0F3081C0A184FAA39.tgz"
   ]
  },
  {
   "cell_type": "code",
   "execution_count": null,
   "metadata": {},
   "outputs": [],
   "source": [
    "!tar -xvf B3054DF783AC61A0C3BD0FDEB0516EC394934809AAE43CA0F3081C0A184FAA39.tar"
   ]
  },
  {
   "cell_type": "code",
   "execution_count": null,
   "metadata": {},
   "outputs": [],
   "source": [
    "!qiime tools import \\\n",
    "  --type 'FeatureData[Sequence]' \\\n",
    "  --input-path sh_qiime_release_s_10.05.2021/sh_refs_qiime_ver8_dynamic_s_10.05.2021.fasta \\\n",
    "  --output-path unite.qza"
   ]
  },
  {
   "cell_type": "code",
   "execution_count": null,
   "metadata": {},
   "outputs": [],
   "source": [
    "!qiime tools import \\\n",
    "  --type 'FeatureData[Taxonomy]' \\\n",
    "  --input-format HeaderlessTSVTaxonomyFormat \\\n",
    "  --input-path sh_qiime_release_s_10.05.2021/sh_taxonomy_qiime_ver8_dynamic_s_10.05.2021.txt \\\n",
    "  --output-path unite-taxonomydev.qza"
   ]
  },
  {
   "cell_type": "markdown",
   "metadata": {},
   "source": [
    "# Assign Taxonomy"
   ]
  },
  {
   "cell_type": "code",
   "execution_count": null,
   "metadata": {},
   "outputs": [],
   "source": [
    "!qiime feature-classifier fit-classifier-naive-bayes \\\n",
    "  --i-reference-reads unite.qza \\\n",
    "  --i-reference-taxonomy unite-taxonomydev.qza \\\n",
    "  --o-classifier classifierdev.qza"
   ]
  },
  {
   "cell_type": "code",
   "execution_count": null,
   "metadata": {},
   "outputs": [],
   "source": [
    "!qiime feature-classifier classify-sklearn \\\n",
    "  --i-classifier classifierdev.qza \\\n",
    "  --i-reads 01-ProcessReads/rep-seqs-dada.qza \\\n",
    "  --p-n-jobs 30 \\\n",
    "  --o-classification 01-ProcessReads/taxonomydev.qza"
   ]
  },
  {
   "cell_type": "code",
   "execution_count": null,
   "metadata": {},
   "outputs": [],
   "source": [
    "!qiime metadata tabulate \\\n",
    "  --m-input-file 01-ProcessReads/taxonomydev.qza \\\n",
    "  --o-visualization 01-ProcessReads/taxonomydev.qzv"
   ]
  },
  {
   "cell_type": "markdown",
   "metadata": {},
   "source": [
    "## Analyses"
   ]
  },
  {
   "cell_type": "code",
   "execution_count": null,
   "metadata": {},
   "outputs": [],
   "source": [
    "# Taxa plots\n",
    "!qiime taxa barplot \\\n",
    "  --i-table 01-ProcessReads/table-dada.qza \\\n",
    "  --i-taxonomy 01-ProcessReads/taxonomydev.qza \\\n",
    "  --m-metadata-file map.txt \\\n",
    "  --o-visualization 02-Analyses/taxa-bar-plots-sklearndev.qzv\n"
   ]
  },
  {
   "cell_type": "code",
   "execution_count": null,
   "metadata": {},
   "outputs": [],
   "source": [
    "!qiime diversity core-metrics \\\n",
    "  --i-table 01-ProcessReads/table-dada.qza \\\n",
    "  --p-sampling-depth 19000 \\\n",
    "  --m-metadata-file map.txt \\\n",
    "  --output-dir 02-Analyses/core-metrics-results-vsearch"
   ]
  }
 ],
 "metadata": {
  "kernelspec": {
   "display_name": "Python 3.9.10 ('sandbox')",
   "language": "python",
   "name": "python3"
  },
  "language_info": {
   "codemirror_mode": {
    "name": "ipython",
    "version": 3
   },
   "file_extension": ".py",
   "mimetype": "text/x-python",
   "name": "python",
   "nbconvert_exporter": "python",
   "pygments_lexer": "ipython3",
   "version": "3.9.10"
  },
  "vscode": {
   "interpreter": {
    "hash": "58b3ee7bed305e8a81ac508aa57e4aa7f39c9f5e9e2e26f9dc52b6cdc02b581d"
   }
  }
 },
 "nbformat": 4,
 "nbformat_minor": 4
}
